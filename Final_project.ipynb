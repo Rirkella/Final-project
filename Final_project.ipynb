{
 "cells": [
  {
   "cell_type": "markdown",
   "id": "0ef5d49b-ad1b-4191-81c5-ef77ac934995",
   "metadata": {},
   "source": [
    "# My Jupyter Notebook on IBM Watson Studio"
   ]
  },
  {
   "cell_type": "markdown",
   "id": "a46204e1-3e7c-4b43-aae2-6a7e5b92930f",
   "metadata": {},
   "source": [
    "**Andriushchenko Irina**  \n",
    "Desired occupation: Data Scientist"
   ]
  },
  {
   "cell_type": "markdown",
   "id": "3aed4a99-fba8-4b65-ab5e-b84a9ec50fb1",
   "metadata": {},
   "source": [
    "*I am interested in data science because it's a*"
   ]
  },
  {
   "cell_type": "markdown",
   "id": "bd989682-0617-4191-a4b8-f0b487dab058",
   "metadata": {},
   "source": [
    "### This code is supposed to multuply 2 by 2."
   ]
  },
  {
   "cell_type": "code",
   "execution_count": 11,
   "id": "1d8c2aae-3cb2-470b-9e53-09de575be2fb",
   "metadata": {},
   "outputs": [
    {
     "data": {
      "text/plain": [
       "4"
      ]
     },
     "execution_count": 11,
     "metadata": {},
     "output_type": "execute_result"
    }
   ],
   "source": [
    "2 * 2"
   ]
  },
  {
   "cell_type": "markdown",
   "id": "00c8f103-b229-40da-a44c-90406a209f2b",
   "metadata": {},
   "source": [
    ">This is a table  \n",
    "---\n",
    "|nb|first|second|\n",
    "|-----|-----|-----|\n",
    "|1|A|a|\n",
    "|2|B|b|\n"
   ]
  }
 ],
 "metadata": {
  "kernelspec": {
   "display_name": "Python",
   "language": "python",
   "name": "conda-env-python-py"
  },
  "language_info": {
   "codemirror_mode": {
    "name": "ipython",
    "version": 3
   },
   "file_extension": ".py",
   "mimetype": "text/x-python",
   "name": "python",
   "nbconvert_exporter": "python",
   "pygments_lexer": "ipython3",
   "version": "3.7.12"
  }
 },
 "nbformat": 4,
 "nbformat_minor": 5
}
