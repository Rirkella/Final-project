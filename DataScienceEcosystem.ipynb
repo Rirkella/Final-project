{
 "cells": [
  {
   "cell_type": "markdown",
   "id": "0ef5d49b-ad1b-4191-81c5-ef77ac934995",
   "metadata": {},
   "source": [
    "# DataScienceEcosystem"
   ]
  },
  {
   "cell_type": "markdown",
   "id": "a46204e1-3e7c-4b43-aae2-6a7e5b92930f",
   "metadata": {},
   "source": [
    "In this notebook, Data Science Tools and Ecosystem are summarized."
   ]
  },
  {
   "cell_type": "markdown",
   "id": "5d3e8abb-de96-4e13-a154-c080be7ad582",
   "metadata": {},
   "source": [
    "**Objectives:**  \n",
    "* List popular languages for Data Science\n",
    "* List popular libraries for Data Science\n",
    "* Give examples of evaluating arithmetic expressions in Python"
   ]
  },
  {
   "cell_type": "markdown",
   "id": "3aed4a99-fba8-4b65-ab5e-b84a9ec50fb1",
   "metadata": {},
   "source": [
    "Some of the popular languages that Data Scientists use are:\n",
    "1. Python\n",
    "2. R\n",
    "3. Java"
   ]
  },
  {
   "cell_type": "markdown",
   "id": "bd989682-0617-4191-a4b8-f0b487dab058",
   "metadata": {},
   "source": [
    "Some of the commonly used libraries used by Data Scientists include:\n",
    "1. TensorFlow\n",
    "2. NumPy\n",
    "3. SciPy"
   ]
  },
  {
   "cell_type": "markdown",
   "id": "00c8f103-b229-40da-a44c-90406a209f2b",
   "metadata": {},
   "source": [
    "|Data Science Tools|\n",
    "|-----|\n",
    "|RStudio|\n",
    "|JupiterNotebook|\n",
    "|Watson Studio|\n"
   ]
  },
  {
   "cell_type": "markdown",
   "id": "a9ab11cb-9cd9-4b5b-88a9-72000a6a1209",
   "metadata": {},
   "source": [
    "### Below are a few examples of evaluating arithmetic expressions in Python"
   ]
  },
  {
   "cell_type": "code",
   "execution_count": 14,
   "id": "badce221-9db5-4afd-8687-b48cbe1a6fba",
   "metadata": {},
   "outputs": [
    {
     "data": {
      "text/plain": [
       "17"
      ]
     },
     "execution_count": 14,
     "metadata": {},
     "output_type": "execute_result"
    }
   ],
   "source": [
    "#This a simple arithmetic expression to mutiply then add integers\n",
    "(3*4)+5"
   ]
  },
  {
   "cell_type": "code",
   "execution_count": 15,
   "id": "05733e41-f5de-4a52-8230-50fb5fa44c4e",
   "metadata": {},
   "outputs": [
    {
     "data": {
      "text/plain": [
       "3.3333333333333335"
      ]
     },
     "execution_count": 15,
     "metadata": {},
     "output_type": "execute_result"
    }
   ],
   "source": [
    "#This will convert 200 minutes to hours by diving by 60\n",
    "200/60"
   ]
  },
  {
   "cell_type": "markdown",
   "id": "860140b2-663c-4847-ba53-c97808326d15",
   "metadata": {},
   "source": [
    "## Author  \n",
    "Irina Andriushchenko"
   ]
  }
 ],
 "metadata": {
  "kernelspec": {
   "display_name": "Python",
   "language": "python",
   "name": "conda-env-python-py"
  },
  "language_info": {
   "codemirror_mode": {
    "name": "ipython",
    "version": 3
   },
   "file_extension": ".py",
   "mimetype": "text/x-python",
   "name": "python",
   "nbconvert_exporter": "python",
   "pygments_lexer": "ipython3",
   "version": "3.7.12"
  }
 },
 "nbformat": 4,
 "nbformat_minor": 5
}
